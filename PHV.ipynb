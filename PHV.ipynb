{
 "cells": [
  {
   "cell_type": "code",
   "execution_count": 8,
   "metadata": {},
   "outputs": [],
   "source": [
    "import yfinance as yf"
   ]
  },
  {
   "cell_type": "code",
   "execution_count": 20,
   "metadata": {},
   "outputs": [
    {
     "name": "stdout",
     "output_type": "stream",
     "text": [
      "The last close price of AAPL is: 177.3000030517578\n",
      "The last close price of AMZN is: 121.66000366210938\n",
      "The last close price of GOOGL is: 123.66999816894531\n"
     ]
    }
   ],
   "source": [
    "def get_last_close_price(symbol):\n",
    "    ticker = yf.Ticker(symbol)\n",
    "    data = ticker.history(period='1d')\n",
    "    last_close_price = data['Close'].iloc[-1]\n",
    "    return last_close_price\n",
    "\n",
    "# Usage example\n",
    "symbol_0 = 'AAPL'\n",
    "symbol_1 = 'AMZN'\n",
    "symbol_2 = 'GOOGL'\n",
    "last_close_price_0 = get_last_close_price(symbol_0)\n",
    "last_close_price_1 = get_last_close_price(symbol_1)\n",
    "last_close_price_2 = get_last_close_price(symbol_2)\n",
    "print(f\"The last close price of {symbol_0} is: {last_close_price_0}\")\n",
    "print(f\"The last close price of {symbol_1} is: {last_close_price_1}\")\n",
    "print(f\"The last close price of {symbol_2} is: {last_close_price_2}\")\n"
   ]
  },
  {
   "cell_type": "code",
   "execution_count": 21,
   "metadata": {},
   "outputs": [
    {
     "name": "stdout",
     "output_type": "stream",
     "text": [
      "The YTD performance of AAPL is: 42.17%\n",
      "The YTD performance of AMZN is: 41.76%\n",
      "The YTD performance of GOOGL is: 38.77%\n"
     ]
    }
   ],
   "source": [
    "import datetime\n",
    "\n",
    "def get_ytd_performance(symbol):\n",
    "    # Get today's date\n",
    "    today = datetime.date.today()\n",
    "\n",
    "    # Get the start date for YTD calculation (January 1st of the current year)\n",
    "    start_date = datetime.date(today.year, 1, 1)\n",
    "\n",
    "    # Fetch historical data for the given symbol from the start date to today\n",
    "    ticker = yf.Ticker(symbol)\n",
    "    data = ticker.history(start=start_date, end=today)\n",
    "\n",
    "    # Calculate the percentage change in stock price\n",
    "    price_change = (data['Close'][-1] - data['Close'][0]) / data['Close'][0] * 100\n",
    "\n",
    "    return price_change\n",
    "\n",
    "# Usage example\n",
    "symbol_0 = 'AAPL'\n",
    "symbol_1 = 'AMZN'\n",
    "symbol_2 = 'GOOGL'\n",
    "ytd_performance_0 = get_ytd_performance(symbol_0)\n",
    "ytd_performance_1 = get_ytd_performance(symbol_1)\n",
    "ytd_performance_2 = get_ytd_performance(symbol_2)\n",
    "print(f\"The YTD performance of {symbol_0} is: {ytd_performance_0:.2f}%\")\n",
    "print(f\"The YTD performance of {symbol_1} is: {ytd_performance_1:.2f}%\")\n",
    "print(f\"The YTD performance of {symbol_2} is: {ytd_performance_2:.2f}%\")"
   ]
  },
  {
   "cell_type": "code",
   "execution_count": 26,
   "metadata": {},
   "outputs": [
    {
     "name": "stdout",
     "output_type": "stream",
     "text": [
      "short interest of AAPL is: 0.0069999998%\n",
      "short interest of AMZN is: 0.0085%\n",
      "short interest of GOOGL is: 0.0094%\n"
     ]
    }
   ],
   "source": [
    "import yfinance as yf\n",
    "\n",
    "def get_short_interest(symbol):\n",
    "        data = yf.Ticker(symbol)\n",
    "        info = data.info\n",
    "        short_interest = info.get('shortPercentOfFloat', 'N/A')\n",
    "        return short_interest\n",
    "\n",
    "# Example usage\n",
    "symbol_0 = 'AAPL'\n",
    "symbol_1 = 'AMZN'\n",
    "symbol_2 = 'GOOGL'\n",
    "short_interest_0 = get_short_interest(symbol_0)\n",
    "short_interest_1 = get_short_interest(symbol_1)\n",
    "short_interest_2 = get_short_interest(symbol_2)\n",
    "print(f\"short interest of {symbol_0} is: {short_interest_0:}%\")\n",
    "print(f\"short interest of {symbol_1} is: {short_interest_1:}%\")\n",
    "print(f\"short interest of {symbol_2} is: {short_interest_2:}%\")\n"
   ]
  },
  {
   "cell_type": "code",
   "execution_count": null,
   "metadata": {},
   "outputs": [],
   "source": []
  },
  {
   "cell_type": "code",
   "execution_count": 28,
   "metadata": {},
   "outputs": [],
   "source": [
    "from openpyxl import Workbook, load_workbook\n",
    "\n",
    "wb = Workbook()\n",
    "ws = wb.active\n",
    "ws.title = \"Data\"\n",
    "ws.append(['Company Name', 'last traded Price', 'YTD%', 'short_interest'])\n",
    "ws.append(['aaple', last_close_price_0, ytd_performance_0, short_interest_0  ])\n",
    "ws.append(['amazon', last_close_price_1, ytd_performance_1, short_interest_1 ])\n",
    "ws.append(['Google', last_close_price_2, ytd_performance_2, short_interest_2 ])\n",
    "\n",
    "\n",
    "wb.save('data.xlsx')"
   ]
  }
 ],
 "metadata": {
  "kernelspec": {
   "display_name": "Python 3",
   "language": "python",
   "name": "python3"
  },
  "language_info": {
   "codemirror_mode": {
    "name": "ipython",
    "version": 3
   },
   "file_extension": ".py",
   "mimetype": "text/x-python",
   "name": "python",
   "nbconvert_exporter": "python",
   "pygments_lexer": "ipython3",
   "version": "3.10.5"
  },
  "orig_nbformat": 4
 },
 "nbformat": 4,
 "nbformat_minor": 2
}
