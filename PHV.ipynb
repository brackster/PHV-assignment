{
 "cells": [
  {
   "cell_type": "code",
   "execution_count": 2,
   "metadata": {},
   "outputs": [],
   "source": [
    "import yfinance as yf"
   ]
  },
  {
   "cell_type": "code",
   "execution_count": 14,
   "metadata": {},
   "outputs": [
    {
     "name": "stdout",
     "output_type": "stream",
     "text": [
      "The last close price of AAPL is: 175.42999267578125\n",
      "The last close price of AMZN is: 120.11000061035156\n",
      "The last close price of GOOGL is: 124.61000061035156\n"
     ]
    }
   ],
   "source": [
    "def get_last_close_price(symbol):\n",
    "    ticker = yf.Ticker(symbol)\n",
    "    data = ticker.history(period='1d')\n",
    "    last_close_price = data['Close'].iloc[-1]\n",
    "    return last_close_price\n",
    "\n",
    "# Usage example\n",
    "symbol_0 = 'AAPL'\n",
    "symbol_1 = 'AMZN'\n",
    "symbol_2 = 'GOOGL'\n",
    "last_close_price_0 = get_last_close_price(symbol_0)\n",
    "last_close_price_1 = get_last_close_price(symbol_1)\n",
    "last_close_price_2 = get_last_close_price(symbol_2)\n",
    "print(f\"The last close price of {symbol_0} is: {last_close_price_0}\")\n",
    "print(f\"The last close price of {symbol_1} is: {last_close_price_1}\")\n",
    "print(f\"The last close price of {symbol_2} is: {last_close_price_2}\")\n"
   ]
  },
  {
   "cell_type": "code",
   "execution_count": 17,
   "metadata": {},
   "outputs": [
    {
     "name": "stdout",
     "output_type": "stream",
     "text": [
      "The YTD performance of AAPL is: 40.67%\n",
      "The YTD performance of AMZN is: 39.96%\n",
      "The YTD performance of GOOGL is: 39.82%\n"
     ]
    }
   ],
   "source": [
    "import datetime\n",
    "\n",
    "def get_ytd_performance(symbol):\n",
    "    # Get today's date\n",
    "    today = datetime.date.today()\n",
    "\n",
    "    # Get the start date for YTD calculation (January 1st of the current year)\n",
    "    start_date = datetime.date(today.year, 1, 1)\n",
    "\n",
    "    # Fetch historical data for the given symbol from the start date to today\n",
    "    ticker = yf.Ticker(symbol)\n",
    "    data = ticker.history(start=start_date, end=today)\n",
    "\n",
    "    # Calculate the percentage change in stock price\n",
    "    price_change = (data['Close'][-1] - data['Close'][0]) / data['Close'][0] * 100\n",
    "\n",
    "    return price_change\n",
    "\n",
    "# Usage example\n",
    "symbol_0 = 'AAPL'\n",
    "symbol_1 = 'AMZN'\n",
    "symbol_2 = 'GOOGL'\n",
    "ytd_performance_0 = get_ytd_performance(symbol_0)\n",
    "ytd_performance_1 = get_ytd_performance(symbol_1)\n",
    "ytd_performance_2 = get_ytd_performance(symbol_2)\n",
    "print(f\"The YTD performance of {symbol_0} is: {ytd_performance_0:.2f}%\")\n",
    "print(f\"The YTD performance of {symbol_1} is: {ytd_performance_1:.2f}%\")\n",
    "print(f\"The YTD performance of {symbol_2} is: {ytd_performance_2:.2f}%\")"
   ]
  },
  {
   "cell_type": "code",
   "execution_count": null,
   "metadata": {},
   "outputs": [],
   "source": [
    "import yfinance as yf\n",
    "\n",
    "def get_short_interest(symbol, date):\n",
    "    stock = yf.Ticker(symbol)\n",
    "    info = stock.history(start=date, end=date)\n",
    "    short_interest = info['ShortRatio'].values[0]  # Extracting short interest value\n",
    "\n",
    "    return short_interest\n",
    "\n",
    "# Example usage\n",
    "symbol = 'AAPL'  # Stock symbol for Apple Inc.\n",
    "date = '2023-05-14'  # Date for which short interest is required\n",
    "\n",
    "short_interest = get_short_interest(symbol, date)\n",
    "print(f\"Short Interest for {symbol} on {date}: {short_interest}%\")"
   ]
  },
  {
   "cell_type": "code",
   "execution_count": 40,
   "metadata": {},
   "outputs": [],
   "source": [
    "from openpyxl import Workbook, load_workbook\n",
    "\n",
    "wb = Workbook()\n",
    "ws = wb.active\n",
    "ws.title = \"Data\"\n",
    "ws.append(['Company Name', 'last traded Price', 'YTD%'])\n",
    "ws.append(['aaple', last_close_price_0, ytd_performance_0  ])\n",
    "ws.append(['amazon', last_close_price_1, ytd_performance_1 ])\n",
    "ws.append(['Google', last_close_price_2, ytd_performance_2 ])\n",
    "\n",
    "\n",
    "wb.save('data.xlsx')"
   ]
  },
  {
   "cell_type": "code",
   "execution_count": 1,
   "metadata": {},
   "outputs": [
    {
     "name": "stdout",
     "output_type": "stream",
     "text": [
      "Table row not found.\n"
     ]
    }
   ],
   "source": [
    "import requests\n",
    "from bs4 import BeautifulSoup\n",
    "import csv\n",
    "\n",
    "# URL of the website to scrape\n",
    "url = \"https://finance.yahoo.com/quote/AMZN/key-statistics/?guccounter=1&guce_referrer=aHR0cHM6Ly93d3cuZ29vZ2xlLmNvbS8&guce_referrer_sig=AQAAAN4mQEZ6pGQ6ktczE7g50vGpWFEIbdB8L1YTYrCmuJrwU7bYwETZyOW-leqxfj387mPMX76tqvfllYSCbmCgdAoo_CCHZxiGJA_PFH3faRrZ-YFWjL4jiW-j5YP8ueer07kc1ZyDePpBykRpiEPbqmayE39Gm5Jibc3_7hg9-AqK\"\n",
    "\n",
    "# Send a GET request to the URL\n",
    "response = requests.get(url)\n",
    "\n",
    "# Create a BeautifulSoup object to parse the HTML content\n",
    "soup = BeautifulSoup(response.content, \"html.parser\")\n",
    "\n",
    "# Find the table row containing the Short % of Float data\n",
    "row = soup.find(\"tr\", class_=\"Bxz(bb) H(36px) BdB Bdbc($seperatorColor)\")\n",
    "\n",
    "# Check if the row is found\n",
    "if row:\n",
    "    # Extract the content from the target <td> tag\n",
    "    td_content = row.find(\"td\", class_=\"Fw(500) Ta(end) Pstart(10px) Miw(60px)\").contents\n",
    "\n",
    "    # Join the content into a single string\n",
    "    value = ''.join(str(item) for item in td_content)\n",
    "    \n",
    "    # Prepare the data to be written to the CSV file\n",
    "    data = [[\"Short % of Float\", value]]\n",
    "\n",
    "    # Define the path for the CSV file on the desktop\n",
    "    csv_file_path = \"C:/Users/YourUsername/Desktop/short_float_data.csv\"\n",
    "\n",
    "    # Write the data to the CSV file\n",
    "    with open(csv_file_path, mode=\"w\", newline=\"\") as file:\n",
    "        writer = csv.writer(file)\n",
    "        writer.writerows(data)\n",
    "\n",
    "    print(\"Short % of Float data has been scraped and saved to:\", csv_file_path)\n",
    "else:\n",
    "    print(\"Table row not found.\")"
   ]
  }
 ],
 "metadata": {
  "kernelspec": {
   "display_name": "Python 3",
   "language": "python",
   "name": "python3"
  },
  "language_info": {
   "codemirror_mode": {
    "name": "ipython",
    "version": 3
   },
   "file_extension": ".py",
   "mimetype": "text/x-python",
   "name": "python",
   "nbconvert_exporter": "python",
   "pygments_lexer": "ipython3",
   "version": "3.10.5"
  },
  "orig_nbformat": 4
 },
 "nbformat": 4,
 "nbformat_minor": 2
}
