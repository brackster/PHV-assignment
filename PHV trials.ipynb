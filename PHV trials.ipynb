{
 "cells": [
  {
   "cell_type": "code",
   "execution_count": 1,
   "metadata": {},
   "outputs": [],
   "source": [
    "import yfinance as yf"
   ]
  },
  {
   "cell_type": "code",
   "execution_count": 33,
   "metadata": {},
   "outputs": [],
   "source": [
    "def get_sp500_weight(symbol, date):\n",
    "    sp500_tickers = yf.Tickers('SPY')  # Get S&P 500 index data\n",
    "    sp500_df = sp500_tickers.history(start=date, end=date)\n",
    "    sp500_constituents = sp500_df['Close'].columns.tolist()  # Get S&P 500 constituent tickers\n",
    "\n",
    "    if symbol not in sp500_constituents:\n",
    "        return None\n",
    "\n",
    "    asset_tickers = yf.Tickers(symbol)  # Get asset data\n",
    "    asset_df = asset_tickers.history(start=date, end=date)  \n",
    "    asset_close_price = asset_df['Close'].iloc[0][0]\n",
    "\n",
    "    sp500_weights = sp500_tickers.tickers.Symbols  # Get S&P 500 weights\n",
    "    apple_weight = sp500_weights[symbol].weight\n",
    "    apple_market_cap = (apple_weight / 100) * sp500_df['Close'].iloc[0][0]  # Calculate Apple's market cap\n",
    "\n",
    "    return (apple_market_cap / asset_close_price) * 100  # Calculate Apple's weight\n"
   ]
  },
  {
   "cell_type": "code",
   "execution_count": 34,
   "metadata": {},
   "outputs": [
    {
     "name": "stdout",
     "output_type": "stream",
     "text": [
      "[*********************100%***********************]  1 of 1 completed\n",
      "\n",
      "1 Failed download:\n",
      "- SPY: No data found for this date range, symbol may be delisted\n"
     ]
    },
    {
     "ename": "KeyError",
     "evalue": "'SPY'",
     "output_type": "error",
     "traceback": [
      "\u001b[1;31m---------------------------------------------------------------------------\u001b[0m",
      "\u001b[1;31mKeyError\u001b[0m                                  Traceback (most recent call last)",
      "File \u001b[1;32mc:\\Users\\jinda\\AppData\\Local\\Programs\\Python\\Python310\\lib\\site-packages\\pandas\\core\\indexes\\base.py:3621\u001b[0m, in \u001b[0;36mIndex.get_loc\u001b[1;34m(self, key, method, tolerance)\u001b[0m\n\u001b[0;32m   3620\u001b[0m \u001b[39mtry\u001b[39;00m:\n\u001b[1;32m-> 3621\u001b[0m     \u001b[39mreturn\u001b[39;00m \u001b[39mself\u001b[39;49m\u001b[39m.\u001b[39;49m_engine\u001b[39m.\u001b[39;49mget_loc(casted_key)\n\u001b[0;32m   3622\u001b[0m \u001b[39mexcept\u001b[39;00m \u001b[39mKeyError\u001b[39;00m \u001b[39mas\u001b[39;00m err:\n",
      "File \u001b[1;32mc:\\Users\\jinda\\AppData\\Local\\Programs\\Python\\Python310\\lib\\site-packages\\pandas\\_libs\\index.pyx:136\u001b[0m, in \u001b[0;36mpandas._libs.index.IndexEngine.get_loc\u001b[1;34m()\u001b[0m\n",
      "File \u001b[1;32mc:\\Users\\jinda\\AppData\\Local\\Programs\\Python\\Python310\\lib\\site-packages\\pandas\\_libs\\index.pyx:163\u001b[0m, in \u001b[0;36mpandas._libs.index.IndexEngine.get_loc\u001b[1;34m()\u001b[0m\n",
      "File \u001b[1;32mpandas\\_libs\\hashtable_class_helper.pxi:5198\u001b[0m, in \u001b[0;36mpandas._libs.hashtable.PyObjectHashTable.get_item\u001b[1;34m()\u001b[0m\n",
      "File \u001b[1;32mpandas\\_libs\\hashtable_class_helper.pxi:5206\u001b[0m, in \u001b[0;36mpandas._libs.hashtable.PyObjectHashTable.get_item\u001b[1;34m()\u001b[0m\n",
      "\u001b[1;31mKeyError\u001b[0m: 'SPY'",
      "\nThe above exception was the direct cause of the following exception:\n",
      "\u001b[1;31mKeyError\u001b[0m                                  Traceback (most recent call last)",
      "Cell \u001b[1;32mIn[34], line 3\u001b[0m\n\u001b[0;32m      1\u001b[0m symbol \u001b[39m=\u001b[39m \u001b[39m'\u001b[39m\u001b[39mAMZN\u001b[39m\u001b[39m'\u001b[39m\n\u001b[0;32m      2\u001b[0m date \u001b[39m=\u001b[39m \u001b[39m'\u001b[39m\u001b[39m2023-05-23\u001b[39m\u001b[39m'\u001b[39m\n\u001b[1;32m----> 3\u001b[0m weight \u001b[39m=\u001b[39m get_sp500_weight(symbol, date)\n\u001b[0;32m      5\u001b[0m \u001b[39mif\u001b[39;00m weight:\n\u001b[0;32m      6\u001b[0m     \u001b[39mprint\u001b[39m(\u001b[39mf\u001b[39m\u001b[39m\"\u001b[39m\u001b[39mThe S&P 500 weight of \u001b[39m\u001b[39m{\u001b[39;00msymbol\u001b[39m}\u001b[39;00m\u001b[39m on \u001b[39m\u001b[39m{\u001b[39;00mdate\u001b[39m}\u001b[39;00m\u001b[39m is \u001b[39m\u001b[39m{\u001b[39;00mweight\u001b[39m:\u001b[39;00m\u001b[39m.2f\u001b[39m\u001b[39m}\u001b[39;00m\u001b[39m%.\u001b[39m\u001b[39m\"\u001b[39m)\n",
      "Cell \u001b[1;32mIn[33], line 3\u001b[0m, in \u001b[0;36mget_sp500_weight\u001b[1;34m(symbol, date)\u001b[0m\n\u001b[0;32m      1\u001b[0m \u001b[39mdef\u001b[39;00m \u001b[39mget_sp500_weight\u001b[39m(symbol, date):\n\u001b[0;32m      2\u001b[0m     sp500_tickers \u001b[39m=\u001b[39m yf\u001b[39m.\u001b[39mTickers(\u001b[39m'\u001b[39m\u001b[39mSPY\u001b[39m\u001b[39m'\u001b[39m)  \u001b[39m# Get S&P 500 index data\u001b[39;00m\n\u001b[1;32m----> 3\u001b[0m     sp500_df \u001b[39m=\u001b[39m sp500_tickers\u001b[39m.\u001b[39;49mhistory(start\u001b[39m=\u001b[39;49mdate, end\u001b[39m=\u001b[39;49mdate)\n\u001b[0;32m      4\u001b[0m     sp500_constituents \u001b[39m=\u001b[39m sp500_df[\u001b[39m'\u001b[39m\u001b[39mClose\u001b[39m\u001b[39m'\u001b[39m]\u001b[39m.\u001b[39mcolumns\u001b[39m.\u001b[39mtolist()  \u001b[39m# Get S&P 500 constituent tickers\u001b[39;00m\n\u001b[0;32m      6\u001b[0m     \u001b[39mif\u001b[39;00m symbol \u001b[39mnot\u001b[39;00m \u001b[39min\u001b[39;00m sp500_constituents:\n",
      "File \u001b[1;32mc:\\Users\\jinda\\AppData\\Local\\Programs\\Python\\Python310\\lib\\site-packages\\yfinance\\tickers.py:50\u001b[0m, in \u001b[0;36mTickers.history\u001b[1;34m(self, period, interval, start, end, prepost, actions, auto_adjust, repair, proxy, threads, group_by, progress, timeout, **kwargs)\u001b[0m\n\u001b[0;32m     43\u001b[0m \u001b[39mdef\u001b[39;00m \u001b[39mhistory\u001b[39m(\u001b[39mself\u001b[39m, period\u001b[39m=\u001b[39m\u001b[39m\"\u001b[39m\u001b[39m1mo\u001b[39m\u001b[39m\"\u001b[39m, interval\u001b[39m=\u001b[39m\u001b[39m\"\u001b[39m\u001b[39m1d\u001b[39m\u001b[39m\"\u001b[39m,\n\u001b[0;32m     44\u001b[0m             start\u001b[39m=\u001b[39m\u001b[39mNone\u001b[39;00m, end\u001b[39m=\u001b[39m\u001b[39mNone\u001b[39;00m, prepost\u001b[39m=\u001b[39m\u001b[39mFalse\u001b[39;00m,\n\u001b[0;32m     45\u001b[0m             actions\u001b[39m=\u001b[39m\u001b[39mTrue\u001b[39;00m, auto_adjust\u001b[39m=\u001b[39m\u001b[39mTrue\u001b[39;00m, repair\u001b[39m=\u001b[39m\u001b[39mFalse\u001b[39;00m,\n\u001b[0;32m     46\u001b[0m             proxy\u001b[39m=\u001b[39m\u001b[39mNone\u001b[39;00m,\n\u001b[0;32m     47\u001b[0m             threads\u001b[39m=\u001b[39m\u001b[39mTrue\u001b[39;00m, group_by\u001b[39m=\u001b[39m\u001b[39m'\u001b[39m\u001b[39mcolumn\u001b[39m\u001b[39m'\u001b[39m, progress\u001b[39m=\u001b[39m\u001b[39mTrue\u001b[39;00m,\n\u001b[0;32m     48\u001b[0m             timeout\u001b[39m=\u001b[39m\u001b[39m10\u001b[39m, \u001b[39m*\u001b[39m\u001b[39m*\u001b[39mkwargs):\n\u001b[1;32m---> 50\u001b[0m     \u001b[39mreturn\u001b[39;00m \u001b[39mself\u001b[39m\u001b[39m.\u001b[39mdownload(\n\u001b[0;32m     51\u001b[0m         period, interval,\n\u001b[0;32m     52\u001b[0m         start, end, prepost,\n\u001b[0;32m     53\u001b[0m         actions, auto_adjust, repair, \n\u001b[0;32m     54\u001b[0m         proxy,\n\u001b[0;32m     55\u001b[0m         threads, group_by, progress,\n\u001b[0;32m     56\u001b[0m         timeout, \u001b[39m*\u001b[39m\u001b[39m*\u001b[39mkwargs)\n",
      "File \u001b[1;32mc:\\Users\\jinda\\AppData\\Local\\Programs\\Python\\Python310\\lib\\site-packages\\yfinance\\tickers.py:81\u001b[0m, in \u001b[0;36mTickers.download\u001b[1;34m(self, period, interval, start, end, prepost, actions, auto_adjust, repair, proxy, threads, group_by, progress, timeout, **kwargs)\u001b[0m\n\u001b[0;32m     65\u001b[0m data \u001b[39m=\u001b[39m multi\u001b[39m.\u001b[39mdownload(\u001b[39mself\u001b[39m\u001b[39m.\u001b[39msymbols,\n\u001b[0;32m     66\u001b[0m                       start\u001b[39m=\u001b[39mstart, end\u001b[39m=\u001b[39mend,\n\u001b[0;32m     67\u001b[0m                       actions\u001b[39m=\u001b[39mactions,\n\u001b[1;32m   (...)\u001b[0m\n\u001b[0;32m     77\u001b[0m                       timeout\u001b[39m=\u001b[39mtimeout,\n\u001b[0;32m     78\u001b[0m                       \u001b[39m*\u001b[39m\u001b[39m*\u001b[39mkwargs)\n\u001b[0;32m     80\u001b[0m \u001b[39mfor\u001b[39;00m symbol \u001b[39min\u001b[39;00m \u001b[39mself\u001b[39m\u001b[39m.\u001b[39msymbols:\n\u001b[1;32m---> 81\u001b[0m     \u001b[39mself\u001b[39m\u001b[39m.\u001b[39mtickers\u001b[39m.\u001b[39mget(symbol, {})\u001b[39m.\u001b[39m_history \u001b[39m=\u001b[39m data[symbol]\n\u001b[0;32m     83\u001b[0m \u001b[39mif\u001b[39;00m group_by \u001b[39m==\u001b[39m \u001b[39m'\u001b[39m\u001b[39mcolumn\u001b[39m\u001b[39m'\u001b[39m:\n\u001b[0;32m     84\u001b[0m     data\u001b[39m.\u001b[39mcolumns \u001b[39m=\u001b[39m data\u001b[39m.\u001b[39mcolumns\u001b[39m.\u001b[39mswaplevel(\u001b[39m0\u001b[39m, \u001b[39m1\u001b[39m)\n",
      "File \u001b[1;32mc:\\Users\\jinda\\AppData\\Local\\Programs\\Python\\Python310\\lib\\site-packages\\pandas\\core\\frame.py:3505\u001b[0m, in \u001b[0;36mDataFrame.__getitem__\u001b[1;34m(self, key)\u001b[0m\n\u001b[0;32m   3503\u001b[0m \u001b[39mif\u001b[39;00m \u001b[39mself\u001b[39m\u001b[39m.\u001b[39mcolumns\u001b[39m.\u001b[39mnlevels \u001b[39m>\u001b[39m \u001b[39m1\u001b[39m:\n\u001b[0;32m   3504\u001b[0m     \u001b[39mreturn\u001b[39;00m \u001b[39mself\u001b[39m\u001b[39m.\u001b[39m_getitem_multilevel(key)\n\u001b[1;32m-> 3505\u001b[0m indexer \u001b[39m=\u001b[39m \u001b[39mself\u001b[39;49m\u001b[39m.\u001b[39;49mcolumns\u001b[39m.\u001b[39;49mget_loc(key)\n\u001b[0;32m   3506\u001b[0m \u001b[39mif\u001b[39;00m is_integer(indexer):\n\u001b[0;32m   3507\u001b[0m     indexer \u001b[39m=\u001b[39m [indexer]\n",
      "File \u001b[1;32mc:\\Users\\jinda\\AppData\\Local\\Programs\\Python\\Python310\\lib\\site-packages\\pandas\\core\\indexes\\base.py:3623\u001b[0m, in \u001b[0;36mIndex.get_loc\u001b[1;34m(self, key, method, tolerance)\u001b[0m\n\u001b[0;32m   3621\u001b[0m     \u001b[39mreturn\u001b[39;00m \u001b[39mself\u001b[39m\u001b[39m.\u001b[39m_engine\u001b[39m.\u001b[39mget_loc(casted_key)\n\u001b[0;32m   3622\u001b[0m \u001b[39mexcept\u001b[39;00m \u001b[39mKeyError\u001b[39;00m \u001b[39mas\u001b[39;00m err:\n\u001b[1;32m-> 3623\u001b[0m     \u001b[39mraise\u001b[39;00m \u001b[39mKeyError\u001b[39;00m(key) \u001b[39mfrom\u001b[39;00m \u001b[39merr\u001b[39;00m\n\u001b[0;32m   3624\u001b[0m \u001b[39mexcept\u001b[39;00m \u001b[39mTypeError\u001b[39;00m:\n\u001b[0;32m   3625\u001b[0m     \u001b[39m# If we have a listlike key, _check_indexing_error will raise\u001b[39;00m\n\u001b[0;32m   3626\u001b[0m     \u001b[39m#  InvalidIndexError. Otherwise we fall through and re-raise\u001b[39;00m\n\u001b[0;32m   3627\u001b[0m     \u001b[39m#  the TypeError.\u001b[39;00m\n\u001b[0;32m   3628\u001b[0m     \u001b[39mself\u001b[39m\u001b[39m.\u001b[39m_check_indexing_error(key)\n",
      "\u001b[1;31mKeyError\u001b[0m: 'SPY'"
     ]
    }
   ],
   "source": [
    "symbol = 'AMZN'\n",
    "date = '2023-05-23'\n",
    "weight = get_sp500_weight(symbol, date)\n",
    "\n",
    "if weight:\n",
    "    print(f\"The S&P 500 weight of {symbol} on {date} is {weight:.2f}%.\")\n",
    "else:\n",
    "    print(f\"{symbol} is not a constituent of the S&P 500 on {date}.\")"
   ]
  },
  {
   "cell_type": "code",
   "execution_count": 31,
   "metadata": {},
   "outputs": [
    {
     "name": "stdout",
     "output_type": "stream",
     "text": [
      "The last close price of AAPL is: 175.42999267578125\n"
     ]
    }
   ],
   "source": [
    "\n",
    "\n",
    "def get_last_close_price(symbol):\n",
    "    ticker = yf.Ticker(symbol)\n",
    "    data = ticker.history(period='1d')\n",
    "    last_close_price = data['Close'].iloc[-1]\n",
    "    return last_close_price\n",
    "\n",
    "# Usage example\n",
    "symbol = 'AAPL'\n",
    "last_close_price = get_last_close_price(symbol)\n",
    "print(f\"The last close price of {symbol} is: {last_close_price}\")\n"
   ]
  },
  {
   "cell_type": "code",
   "execution_count": 32,
   "metadata": {},
   "outputs": [
    {
     "name": "stdout",
     "output_type": "stream",
     "text": [
      "The YTD performance of AAPL is: 40.67%\n"
     ]
    }
   ],
   "source": [
    "\n",
    "import datetime\n",
    "\n",
    "def get_ytd_performance(symbol):\n",
    "    # Get today's date\n",
    "    today = datetime.date.today()\n",
    "\n",
    "    # Get the start date for YTD calculation (January 1st of the current year)\n",
    "    start_date = datetime.date(today.year, 1, 1)\n",
    "\n",
    "    # Fetch historical data for the given symbol from the start date to today\n",
    "    ticker = yf.Ticker(symbol)\n",
    "    data = ticker.history(start=start_date, end=today)\n",
    "\n",
    "    # Calculate the percentage change in stock price\n",
    "    price_change = (data['Close'][-1] - data['Close'][0]) / data['Close'][0] * 100\n",
    "\n",
    "    return price_change\n",
    "\n",
    "# Usage example\n",
    "symbol = 'AAPL'\n",
    "ytd_performance = get_ytd_performance(symbol)\n",
    "print(f\"The YTD performance of {symbol} is: {ytd_performance:.2f}%\")\n"
   ]
  },
  {
   "cell_type": "code",
   "execution_count": 42,
   "metadata": {},
   "outputs": [
    {
     "ename": "NameError",
     "evalue": "name 'get_income_statement' is not defined",
     "output_type": "error",
     "traceback": [
      "\u001b[1;31m---------------------------------------------------------------------------\u001b[0m",
      "\u001b[1;31mNameError\u001b[0m                                 Traceback (most recent call last)",
      "Cell \u001b[1;32mIn[42], line 3\u001b[0m\n\u001b[0;32m      1\u001b[0m \u001b[39mimport\u001b[39;00m \u001b[39myahoo_fin\u001b[39;00m \u001b[39mas\u001b[39;00m \u001b[39myf\u001b[39;00m\n\u001b[1;32m----> 3\u001b[0m get_income_statement(\u001b[39m'\u001b[39m\u001b[39mnflx\u001b[39m\u001b[39m'\u001b[39m)\n",
      "\u001b[1;31mNameError\u001b[0m: name 'get_income_statement' is not defined"
     ]
    }
   ],
   "source": [
    "\n",
    "\n",
    "from yahoo_fin import stock_info as si\n",
    "\n",
    "\n",
    "\n",
    "\n",
    "# Get the revenue data for the past 12 months\n",
    "revenue_data = apple.get_historical_data(\"2022-05-25\", \"2023-05-25\", [\"Revenue\"])\n",
    "\n",
    "# Calculate the annualized growth rate\n",
    "annualized_growth_rate = (revenue_data[-1][\"Revenue\"] - revenue_data[0][\"Revenue\"]) / revenue_data[0][\"Revenue\"] * 100\n",
    "\n",
    "# Print the annualized growth rate\n",
    "print(\"Annualized growth rate:\", annualized_growth_rate)"
   ]
  },
  {
   "cell_type": "code",
   "execution_count": 43,
   "metadata": {},
   "outputs": [
    {
     "ename": "TypeError",
     "evalue": "string indices must be integers",
     "output_type": "error",
     "traceback": [
      "\u001b[1;31m---------------------------------------------------------------------------\u001b[0m",
      "\u001b[1;31mTypeError\u001b[0m                                 Traceback (most recent call last)",
      "Cell \u001b[1;32mIn[43], line 15\u001b[0m\n\u001b[0;32m     13\u001b[0m \u001b[39m# Usage example\u001b[39;00m\n\u001b[0;32m     14\u001b[0m symbol \u001b[39m=\u001b[39m \u001b[39m\"\u001b[39m\u001b[39mAAPL\u001b[39m\u001b[39m\"\u001b[39m\n\u001b[1;32m---> 15\u001b[0m revenue_data \u001b[39m=\u001b[39m get_revenue_data(symbol)\n\u001b[0;32m     17\u001b[0m \u001b[39mif\u001b[39;00m revenue_data \u001b[39mis\u001b[39;00m \u001b[39mnot\u001b[39;00m \u001b[39mNone\u001b[39;00m:\n\u001b[0;32m     18\u001b[0m     \u001b[39mprint\u001b[39m(\u001b[39mf\u001b[39m\u001b[39m\"\u001b[39m\u001b[39mRevenue data for \u001b[39m\u001b[39m{\u001b[39;00msymbol\u001b[39m}\u001b[39;00m\u001b[39m:\u001b[39m\u001b[39m\"\u001b[39m)\n",
      "Cell \u001b[1;32mIn[43], line 4\u001b[0m, in \u001b[0;36mget_revenue_data\u001b[1;34m(symbol)\u001b[0m\n\u001b[0;32m      3\u001b[0m \u001b[39mdef\u001b[39;00m \u001b[39mget_revenue_data\u001b[39m(symbol):\n\u001b[1;32m----> 4\u001b[0m     income_statement \u001b[39m=\u001b[39m si\u001b[39m.\u001b[39;49mget_income_statement(symbol)\n\u001b[0;32m      6\u001b[0m     \u001b[39mif\u001b[39;00m \u001b[39m\"\u001b[39m\u001b[39mRevenue\u001b[39m\u001b[39m\"\u001b[39m \u001b[39mnot\u001b[39;00m \u001b[39min\u001b[39;00m income_statement\u001b[39m.\u001b[39mcolumns:\n\u001b[0;32m      7\u001b[0m         \u001b[39mreturn\u001b[39;00m \u001b[39mNone\u001b[39;00m\n",
      "File \u001b[1;32mc:\\Users\\jinda\\AppData\\Local\\Programs\\Python\\Python310\\lib\\site-packages\\yahoo_fin\\stock_info.py:422\u001b[0m, in \u001b[0;36mget_income_statement\u001b[1;34m(ticker, yearly)\u001b[0m\n\u001b[0;32m    419\u001b[0m json_info \u001b[39m=\u001b[39m _parse_json(income_site)\n\u001b[0;32m    421\u001b[0m \u001b[39mif\u001b[39;00m yearly:\n\u001b[1;32m--> 422\u001b[0m     temp \u001b[39m=\u001b[39m json_info[\u001b[39m\"\u001b[39;49m\u001b[39mincomeStatementHistory\u001b[39;49m\u001b[39m\"\u001b[39;49m][\u001b[39m\"\u001b[39m\u001b[39mincomeStatementHistory\u001b[39m\u001b[39m\"\u001b[39m]\n\u001b[0;32m    423\u001b[0m \u001b[39melse\u001b[39;00m:\n\u001b[0;32m    424\u001b[0m     temp \u001b[39m=\u001b[39m json_info[\u001b[39m\"\u001b[39m\u001b[39mincomeStatementHistoryQuarterly\u001b[39m\u001b[39m\"\u001b[39m][\u001b[39m\"\u001b[39m\u001b[39mincomeStatementHistory\u001b[39m\u001b[39m\"\u001b[39m]\n",
      "\u001b[1;31mTypeError\u001b[0m: string indices must be integers"
     ]
    }
   ],
   "source": [
    "from yahoo_fin import stock_info as si\n",
    "\n",
    "def get_revenue_data(symbol):\n",
    "    income_statement = si.get_income_statement(symbol)\n",
    "    \n",
    "    if \"Revenue\" not in income_statement.columns:\n",
    "        return None\n",
    "    \n",
    "    revenue_data = income_statement[\"Revenue\"]\n",
    "    \n",
    "    return revenue_data\n",
    "\n",
    "# Usage example\n",
    "symbol = \"AAPL\"\n",
    "revenue_data = get_revenue_data(symbol)\n",
    "\n",
    "if revenue_data is not None:\n",
    "    print(f\"Revenue data for {symbol}:\")\n",
    "    print(revenue_data)\n",
    "else:\n",
    "    print(f\"Revenue data not available for {symbol}\")"
   ]
  },
  {
   "cell_type": "code",
   "execution_count": 8,
   "metadata": {},
   "outputs": [
    {
     "ename": "KeyError",
     "evalue": "'data'",
     "output_type": "error",
     "traceback": [
      "\u001b[1;31m---------------------------------------------------------------------------\u001b[0m",
      "\u001b[1;31mKeyError\u001b[0m                                  Traceback (most recent call last)",
      "Cell \u001b[1;32mIn[8], line 13\u001b[0m\n\u001b[0;32m     10\u001b[0m data \u001b[39m=\u001b[39m response\u001b[39m.\u001b[39mjson()\n\u001b[0;32m     12\u001b[0m \u001b[39m# Get the market capitalization of AAPL\u001b[39;00m\n\u001b[1;32m---> 13\u001b[0m market_cap \u001b[39m=\u001b[39m data[\u001b[39m\"\u001b[39;49m\u001b[39mdata\u001b[39;49m\u001b[39m\"\u001b[39;49m][\u001b[39m0\u001b[39m][\u001b[39m\"\u001b[39m\u001b[39mMarket Cap (USD)\u001b[39m\u001b[39m\"\u001b[39m]\n\u001b[0;32m     15\u001b[0m \u001b[39m# Print the market capitalization of AAPL\u001b[39;00m\n\u001b[0;32m     16\u001b[0m \u001b[39mprint\u001b[39m(market_cap)\n",
      "\u001b[1;31mKeyError\u001b[0m: 'data'"
     ]
    }
   ],
   "source": [
    "import pandas as pd\n",
    "import requests\n",
    "\n",
    "# Get the Quandl API key\n",
    "quandl_api_key = \"YOUR_API_KEY\"\n",
    "\n",
    "# Get the market capitalization of AAPL\n",
    "url = \"https://www.quandl.com/api/v3/datasets/NSE/AAPL.json?trim_start=2023-05-26&trim_end=2023-05-26&api_key=YOUR_API_KEY\"\n",
    "response = requests.get(url)\n",
    "data = response.json()\n",
    "\n",
    "# Get the market capitalization of AAPL\n",
    "market_cap = data[\"data\"][0][\"Market Cap (USD)\"]\n",
    "\n",
    "# Print the market capitalization of AAPL\n",
    "print(market_cap)"
   ]
  },
  {
   "cell_type": "code",
   "execution_count": 9,
   "metadata": {},
   "outputs": [
    {
     "name": "stdout",
     "output_type": "stream",
     "text": [
      "https://www.alphavantage.co/query?function=SECTOR&apikey=4HTSLFL3J0RNAGMM\n",
      "<Response [200]>\n",
      "{'Meta Data': {'Information': 'US Sector Performance (realtime & historical)', 'Last Refreshed': '2023-05-26 14:55:35 US/Eastern'}, 'Rank A: Real-Time Performance': {'Consumer Discretionary': '2.92%', 'Information Technology': '2.64%', 'Communication Services': '1.65%', 'Real Estate': '1.27%', 'Financials': '0.94%', 'Industrials': '0.83%', 'Materials': '0.51%', 'Consumer Staples': '0.29%', 'Health Care': '-0.01%', 'Energy': '-0.12%', 'Utilities': '-0.40%'}, 'Rank B: 1 Day Performance': {'Information Technology': '4.45%', 'Communication Services': '0.43%', 'Industrials': '0.30%', 'Real Estate': '0.28%', 'Financials': '0.03%', 'Materials': '-0.38%', 'Consumer Discretionary': '-0.52%', 'Consumer Staples': '-0.77%', 'Health Care': '-1.04%', 'Utilities': '-1.38%', 'Energy': '-1.89%'}, 'Rank C: 5 Day Performance': {'Information Technology': '2.26%', 'Energy': '-0.02%', 'Communication Services': '-0.99%', 'Health Care': '-2.32%', 'Industrials': '-2.45%', 'Utilities': '-2.47%', 'Real Estate': '-2.69%', 'Financials': '-2.70%', 'Consumer Discretionary': '-2.79%', 'Materials': '-3.29%', 'Consumer Staples': '-3.54%'}, 'Rank D: 1 Month Performance': {'Information Technology': '10.01%', 'Communication Services': '8.49%', 'Consumer Discretionary': '1.10%', 'Industrials': '-3.44%', 'Financials': '-4.05%', 'Real Estate': '-4.91%', 'Consumer Staples': '-4.95%', 'Health Care': '-5.54%', 'Materials': '-6.71%', 'Utilities': '-8.18%', 'Energy': '-8.83%'}, 'Rank E: 3 Month Performance': {'Communication Services': '20.29%', 'Information Technology': '19.46%', 'Consumer Discretionary': '4.02%', 'Consumer Staples': '0.44%', 'Health Care': '-0.62%', 'Industrials': '-2.71%', 'Utilities': '-3.18%', 'Energy': '-6.28%', 'Materials': '-6.67%', 'Real Estate': '-7.69%', 'Financials': '-10.71%'}, 'Rank F: Year-to-Date (YTD) Performance': {'Information Technology': '30.47%', 'Communication Services': '30.12%', 'Consumer Discretionary': '15.60%', 'Industrials': '-0.89%', 'Consumer Staples': '-2.18%', 'Materials': '-2.52%', 'Real Estate': '-4.85%', 'Health Care': '-6.26%', 'Financials': '-7.17%', 'Utilities': '-8.93%', 'Energy': '-10.05%'}, 'Rank G: 1 Year Performance': {'Information Technology': '23.05%', 'Communication Services': '9.15%', 'Consumer Discretionary': '7.88%', 'Industrials': '7.21%', 'Consumer Staples': '0.21%', 'Health Care': '-2.66%', 'Energy': '-5.22%', 'Financials': '-6.03%', 'Materials': '-8.84%', 'Utilities': '-12.86%', 'Real Estate': '-18.49%'}, 'Rank H: 3 Year Performance': {'Energy': '109.31%', 'Information Technology': '67.25%', 'Industrials': '53.21%', 'Financials': '45.46%', 'Materials': '43.37%', 'Consumer Staples': '29.62%', 'Health Care': '28.29%', 'Consumer Discretionary': '18.32%', 'Communication Services': '15.30%', 'Utilities': '14.28%', 'Real Estate': '9.21%'}, 'Rank I: 5 Year Performance': {'Information Technology': '131.84%', 'Health Care': '54.79%', 'Consumer Staples': '49.48%', 'Communication Services': '40.72%', 'Consumer Discretionary': '37.89%', 'Industrials': '29.47%', 'Utilities': '28.74%', 'Materials': '28.66%', 'Real Estate': '15.72%', 'Financials': '14.19%', 'Energy': '7.53%'}, 'Rank J: 10 Year Performance': {'Information Technology': '461.12%', 'Health Care': '161.70%', 'Consumer Discretionary': '158.38%', 'Industrials': '118.26%', 'Financials': '99.27%', 'Materials': '87.34%', 'Consumer Staples': '77.51%', 'Utilities': '66.30%', 'Communication Services': '27.05%', 'Energy': '0.90%'}}\n",
      "No data available for 2023-05-25.\n"
     ]
    }
   ],
   "source": [
    "import requests\n",
    "import pandas as pd\n",
    "\n",
    "def get_sp500_weight(api_key, date):\n",
    "    # Fetch S&P 500 composition data from Alpha Vantage\n",
    "    url = f\"https://www.alphavantage.co/query?function=SECTOR&apikey={api_key}\"\n",
    "    print url\n",
    "    response = requests.get(url)\n",
    "    data = response.json()\n",
    "\n",
    "    # Check if the requested date exists in the data\n",
    "    if date not in data['Rank A: Real-Time Performance']:\n",
    "        return None\n",
    "\n",
    "    # Find the weight of Apple (AAPL) on the given date\n",
    "    aapl_weight = data['Rank A: Real-Time Performance'][date]['AAPL']\n",
    "\n",
    "    return aapl_weight\n",
    "\n",
    "# Example usage\n",
    "api_key = '4HTSLFL3J0RNAGMM'  # Replace with your Alpha Vantage API key\n",
    "date = '2023-05-25'  # Specify the desired date in the format 'YYYY-MM-DD'\n",
    "weight = get_sp500_weight(api_key, date)\n",
    "\n",
    "if weight is not None:\n",
    "    print(f\"The weight of Apple (AAPL) in the S&P 500 on {date} is {weight}%.\")\n",
    "else:\n",
    "    print(f\"No data available for {date}.\")"
   ]
  },
  {
   "cell_type": "code",
   "execution_count": 15,
   "metadata": {},
   "outputs": [
    {
     "name": "stdout",
     "output_type": "stream",
     "text": [
      "<class 'yfinance.ticker.Ticker'>\n"
     ]
    },
    {
     "ename": "KeyError",
     "evalue": "'weight'",
     "output_type": "error",
     "traceback": [
      "\u001b[1;31m---------------------------------------------------------------------------\u001b[0m",
      "\u001b[1;31mKeyError\u001b[0m                                  Traceback (most recent call last)",
      "Cell \u001b[1;32mIn[15], line 7\u001b[0m\n\u001b[0;32m      5\u001b[0m \u001b[39mprint\u001b[39m (\u001b[39mtype\u001b[39m(sp500))\n\u001b[0;32m      6\u001b[0m \u001b[39m# Get the weight of Apple in the S&P 500\u001b[39;00m\n\u001b[1;32m----> 7\u001b[0m apple_weight \u001b[39m=\u001b[39m sp500\u001b[39m.\u001b[39;49minfo[\u001b[39m\"\u001b[39;49m\u001b[39mweight\u001b[39;49m\u001b[39m\"\u001b[39;49m]\n\u001b[0;32m      9\u001b[0m \u001b[39m# Print the weight of Apple in the S&P 500\u001b[39;00m\n\u001b[0;32m     10\u001b[0m \u001b[39mprint\u001b[39m(apple_weight)\n",
      "\u001b[1;31mKeyError\u001b[0m: 'weight'"
     ]
    }
   ],
   "source": [
    "import yfinance as yf\n",
    "\n",
    "# Get the S&P 500 constituents data\n",
    "sp500 = yf.Ticker(\"^GSPC\")\n",
    "print (type (sp500))\n",
    "# Get the weight of Apple in the S&P 500\n",
    "apple_weight = sp500.info[\"weight\"]\n",
    "\n",
    "# Print the weight of Apple in the S&P 500\n",
    "print(apple_weight)"
   ]
  },
  {
   "cell_type": "code",
   "execution_count": 29,
   "metadata": {},
   "outputs": [
    {
     "ename": "KeyError",
     "evalue": "'marketCap'",
     "output_type": "error",
     "traceback": [
      "\u001b[1;31m---------------------------------------------------------------------------\u001b[0m",
      "\u001b[1;31mKeyError\u001b[0m                                  Traceback (most recent call last)",
      "Cell \u001b[1;32mIn[29], line 12\u001b[0m\n\u001b[0;32m      9\u001b[0m     \u001b[39mreturn\u001b[39;00m market_cap\n\u001b[0;32m     11\u001b[0m \u001b[39m# Usage example\u001b[39;00m\n\u001b[1;32m---> 12\u001b[0m total_market_cap \u001b[39m=\u001b[39m get_sp500_market_cap()\n\u001b[0;32m     13\u001b[0m \u001b[39mprint\u001b[39m(\u001b[39mf\u001b[39m\u001b[39m\"\u001b[39m\u001b[39mTotal Market Capitalization of S&P 500: \u001b[39m\u001b[39m{\u001b[39;00mtotal_market_cap\u001b[39m}\u001b[39;00m\u001b[39m\"\u001b[39m)\n",
      "Cell \u001b[1;32mIn[29], line 7\u001b[0m, in \u001b[0;36mget_sp500_market_cap\u001b[1;34m()\u001b[0m\n\u001b[0;32m      4\u001b[0m sp500_ticker \u001b[39m=\u001b[39m yf\u001b[39m.\u001b[39mTicker(\u001b[39m'\u001b[39m\u001b[39m^GSPC\u001b[39m\u001b[39m'\u001b[39m)  \u001b[39m# Ticker object for S&P 500 index\u001b[39;00m\n\u001b[0;32m      6\u001b[0m sp500_info \u001b[39m=\u001b[39m sp500_ticker\u001b[39m.\u001b[39minfo  \u001b[39m# Get information for the index\u001b[39;00m\n\u001b[1;32m----> 7\u001b[0m market_cap \u001b[39m=\u001b[39m sp500_info[\u001b[39m'\u001b[39;49m\u001b[39mmarketCap\u001b[39;49m\u001b[39m'\u001b[39;49m]\n\u001b[0;32m      9\u001b[0m \u001b[39mreturn\u001b[39;00m market_cap\n",
      "\u001b[1;31mKeyError\u001b[0m: 'marketCap'"
     ]
    }
   ],
   "source": [
    "import yfinance as yf\n",
    "\n",
    "def get_sp500_market_cap():\n",
    "    sp500_ticker = yf.Ticker('^GSPC')  # Ticker object for S&P 500 index\n",
    "\n",
    "    sp500_info = sp500_ticker.info  # Get information for the index\n",
    "    market_cap = sp500_info['marketCap']\n",
    "\n",
    "    return market_cap\n",
    "\n",
    "# Usage example\n",
    "total_market_cap = get_sp500_market_cap()\n",
    "print(f\"Total Market Capitalization of S&P 500: {total_market_cap}\")"
   ]
  },
  {
   "cell_type": "code",
   "execution_count": null,
   "metadata": {},
   "outputs": [],
   "source": [
    "import requests\n",
    "from bs4 import BeautifulSoup\n",
    "import csv\n",
    "\n",
    "# URL of the website to scrape\n",
    "url = \"https://finance.yahoo.com/quote/AMZN/key-statistics/?guccounter=1&guce_referrer=aHR0cHM6Ly93d3cuZ29vZ2xlLmNvbS8&guce_referrer_sig=AQAAAN4mQEZ6pGQ6ktczE7g50vGpWFEIbdB8L1YTYrCmuJrwU7bYwETZyOW-leqxfj387mPMX76tqvfllYSCbmCgdAoo_CCHZxiGJA_PFH3faRrZ-YFWjL4jiW-j5YP8ueer07kc1ZyDePpBykRpiEPbqmayE39Gm5Jibc3_7hg9-AqK\"\n",
    "\n",
    "# Send a GET request to the URL\n",
    "response = requests.get(url)\n",
    "\n",
    "# Create a BeautifulSoup object to parse the HTML content\n",
    "soup = BeautifulSoup(response.content, \"html.parser\")\n",
    "\n",
    "# Find the table row containing the Short % of Float data\n",
    "row = soup.find(\"tr\", class_=\"Bxz(bb) H(36px) BdB Bdbc($seperatorColor)\")\n",
    "\n",
    "# Check if the row is found\n",
    "if row:\n",
    "    # Extract the content from the target <td> tag\n",
    "    td_content = row.find(\"td\", class_=\"Fw(500) Ta(end) Pstart(10px) Miw(60px)\").contents\n",
    "\n",
    "    # Join the content into a single string\n",
    "    value = ''.join(str(item) for item in td_content)\n",
    "    \n",
    "    # Prepare the data to be written to the CSV file\n",
    "    data = [[\"Short % of Float\", value]]\n",
    "\n",
    "    # Define the path for the CSV file on the desktop\n",
    "    csv_file_path = \"C:/Users/YourUsername/Desktop/short_float_data.csv\"\n",
    "\n",
    "    # Write the data to the CSV file\n",
    "    with open(csv_file_path, mode=\"w\", newline=\"\") as file:\n",
    "        writer = csv.writer(file)\n",
    "        writer.writerows(data)\n",
    "\n",
    "    print(\"Short % of Float data has been scraped and saved to:\", csv_file_path)\n",
    "else:\n",
    "    print(\"Table row not found.\")"
   ]
  }
 ],
 "metadata": {
  "kernelspec": {
   "display_name": "Python 3",
   "language": "python",
   "name": "python3"
  },
  "language_info": {
   "codemirror_mode": {
    "name": "ipython",
    "version": 3
   },
   "file_extension": ".py",
   "mimetype": "text/x-python",
   "name": "python",
   "nbconvert_exporter": "python",
   "pygments_lexer": "ipython3",
   "version": "3.10.5"
  },
  "orig_nbformat": 4
 },
 "nbformat": 4,
 "nbformat_minor": 2
}
